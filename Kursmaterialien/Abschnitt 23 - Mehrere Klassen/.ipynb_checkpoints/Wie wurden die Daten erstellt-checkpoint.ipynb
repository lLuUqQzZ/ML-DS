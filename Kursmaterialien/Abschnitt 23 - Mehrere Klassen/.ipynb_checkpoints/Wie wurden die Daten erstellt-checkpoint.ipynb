{
 "cells": [
  {
   "cell_type": "code",
   "execution_count": 1,
   "metadata": {},
   "outputs": [
    {
     "name": "stderr",
     "output_type": "stream",
     "text": [
      "/Users/jannisseemann/anaconda3/lib/python3.6/site-packages/IPython/core/interactiveshell.py:2698: DtypeWarning: Columns (0,3,5,17,18,19,20,24,25,26,27,28,30,36,37,38,39,48,61,62) have mixed types. Specify dtype option on import or set low_memory=False.\n",
      "  interactivity=interactivity, compiler=compiler, result=result)\n"
     ]
    }
   ],
   "source": [
    "import pandas as pd\n",
    "\n",
    "# Daten einlesen \n",
    "#  -> Quelle: http://world.openfoodfacts.org/data/en.openfoodfacts.org.products.csv\n",
    "# \n",
    "# Diese Datei musst du natürlich herunterladen, damit dieses Script\n",
    "# hier ausgeführt werden kann. Aber Achtung: Ca. 1.5GB!\n",
    "df = pd.read_csv(\"en.openfoodfacts.org.products.csv\", delimiter = \"\\t\")\n",
    "\n",
    "# Und filtern...\n",
    "df = df[df[\"product_name\"].notnull()]\n",
    "df = df[df[\"categories_en\"].notnull()]"
   ]
  },
  {
   "cell_type": "code",
   "execution_count": 3,
   "metadata": {},
   "outputs": [],
   "source": [
    "apple = df[(df[\"product_name\"].str.contains(\"Juice\")) & (df[\"product_name\"].str.contains(\"Apple\")) & (~df[\"product_name\"].str.contains(\"Pineapple\")) & df[\"categories_en\"].str.contains(\"Fruit-based beverages\")].copy()\n",
    "apple[\"clss\"] = \"Apple\"\n",
    "\n",
    "orange = df[(df[\"product_name\"].str.contains(\"Juice\")) & (df[\"product_name\"].str.contains(\"Orange\")) & df[\"categories_en\"].str.contains(\"Fruit-based beverages\")].copy()\n",
    "orange[\"clss\"] = \"Orange\"\n",
    "\n",
    "cola = df[df[\"categories_en\"].str.contains(\"Colas\")].copy()\n",
    "cola[\"clss\"] = \"Cola\"\n",
    "\n",
    "juices = pd.concat([apple, orange, cola])\n",
    "filtered = juices.dropna(axis=1, how='all').dropna(axis = 1, thresh = 500)\n",
    "data = filtered[[\"product_name\", \"brands\", \"countries\", \"energy_100g\", \"fat_100g\", \"carbohydrates_100g\", \"sugars_100g\", \"proteins_100g\", \"clss\"]]\n",
    "data = data[data[\"energy_100g\"].notnull() & data[\"sugars_100g\"].notnull() & data[\"carbohydrates_100g\"].notnull() & data[\"fat_100g\"].notnull() & data[\"proteins_100g\"].notnull()]\n",
    "\n",
    "\n",
    "data.to_csv(\"./foods.csv\", index = False)"
   ]
  },
  {
   "cell_type": "code",
   "execution_count": null,
   "metadata": {},
   "outputs": [],
   "source": []
  },
  {
   "cell_type": "code",
   "execution_count": null,
   "metadata": {},
   "outputs": [],
   "source": []
  }
 ],
 "metadata": {
  "kernelspec": {
   "display_name": "Python 3",
   "language": "python",
   "name": "python3"
  },
  "language_info": {
   "codemirror_mode": {
    "name": "ipython",
    "version": 3
   },
   "file_extension": ".py",
   "mimetype": "text/x-python",
   "name": "python",
   "nbconvert_exporter": "python",
   "pygments_lexer": "ipython3",
   "version": "3.6.3"
  }
 },
 "nbformat": 4,
 "nbformat_minor": 2
}
