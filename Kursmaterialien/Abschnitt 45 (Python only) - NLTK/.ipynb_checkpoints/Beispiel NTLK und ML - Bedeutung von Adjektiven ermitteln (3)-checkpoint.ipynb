{
 "cells": [
  {
   "cell_type": "markdown",
   "metadata": {},
   "source": [
    "Datenquelle: https://www.kaggle.com/snap/amazon-fine-food-reviews\n",
    "\n",
    "Davon betrachten wir nur die ersten 10.000 Zeilen."
   ]
  },
  {
   "cell_type": "code",
   "execution_count": 1,
   "metadata": {},
   "outputs": [
    {
     "data": {
      "text/html": [
       "<div>\n",
       "<style>\n",
       "    .dataframe thead tr:only-child th {\n",
       "        text-align: right;\n",
       "    }\n",
       "\n",
       "    .dataframe thead th {\n",
       "        text-align: left;\n",
       "    }\n",
       "\n",
       "    .dataframe tbody tr th {\n",
       "        vertical-align: top;\n",
       "    }\n",
       "</style>\n",
       "<table border=\"1\" class=\"dataframe\">\n",
       "  <thead>\n",
       "    <tr style=\"text-align: right;\">\n",
       "      <th></th>\n",
       "      <th>Id</th>\n",
       "      <th>ProductId</th>\n",
       "      <th>HelpfulnessNumerator</th>\n",
       "      <th>HelpfulnessDenominator</th>\n",
       "      <th>Score</th>\n",
       "      <th>Time</th>\n",
       "      <th>Summary</th>\n",
       "      <th>Text</th>\n",
       "    </tr>\n",
       "  </thead>\n",
       "  <tbody>\n",
       "    <tr>\n",
       "      <th>0</th>\n",
       "      <td>1</td>\n",
       "      <td>B001E4KFG0</td>\n",
       "      <td>1</td>\n",
       "      <td>1</td>\n",
       "      <td>5</td>\n",
       "      <td>1303862400</td>\n",
       "      <td>Good Quality Dog Food</td>\n",
       "      <td>I have bought several of the Vitality canned d...</td>\n",
       "    </tr>\n",
       "    <tr>\n",
       "      <th>1</th>\n",
       "      <td>2</td>\n",
       "      <td>B00813GRG4</td>\n",
       "      <td>0</td>\n",
       "      <td>0</td>\n",
       "      <td>1</td>\n",
       "      <td>1346976000</td>\n",
       "      <td>Not as Advertised</td>\n",
       "      <td>Product arrived labeled as Jumbo Salted Peanut...</td>\n",
       "    </tr>\n",
       "    <tr>\n",
       "      <th>2</th>\n",
       "      <td>3</td>\n",
       "      <td>B000LQOCH0</td>\n",
       "      <td>1</td>\n",
       "      <td>1</td>\n",
       "      <td>4</td>\n",
       "      <td>1219017600</td>\n",
       "      <td>\"Delight\" says it all</td>\n",
       "      <td>This is a confection that has been around a fe...</td>\n",
       "    </tr>\n",
       "    <tr>\n",
       "      <th>3</th>\n",
       "      <td>4</td>\n",
       "      <td>B000UA0QIQ</td>\n",
       "      <td>3</td>\n",
       "      <td>3</td>\n",
       "      <td>2</td>\n",
       "      <td>1307923200</td>\n",
       "      <td>Cough Medicine</td>\n",
       "      <td>If you are looking for the secret ingredient i...</td>\n",
       "    </tr>\n",
       "    <tr>\n",
       "      <th>4</th>\n",
       "      <td>5</td>\n",
       "      <td>B006K2ZZ7K</td>\n",
       "      <td>0</td>\n",
       "      <td>0</td>\n",
       "      <td>5</td>\n",
       "      <td>1350777600</td>\n",
       "      <td>Great taffy</td>\n",
       "      <td>Great taffy at a great price.  There was a wid...</td>\n",
       "    </tr>\n",
       "  </tbody>\n",
       "</table>\n",
       "</div>"
      ],
      "text/plain": [
       "   Id   ProductId  HelpfulnessNumerator  HelpfulnessDenominator  Score  \\\n",
       "0   1  B001E4KFG0                     1                       1      5   \n",
       "1   2  B00813GRG4                     0                       0      1   \n",
       "2   3  B000LQOCH0                     1                       1      4   \n",
       "3   4  B000UA0QIQ                     3                       3      2   \n",
       "4   5  B006K2ZZ7K                     0                       0      5   \n",
       "\n",
       "         Time                Summary  \\\n",
       "0  1303862400  Good Quality Dog Food   \n",
       "1  1346976000      Not as Advertised   \n",
       "2  1219017600  \"Delight\" says it all   \n",
       "3  1307923200         Cough Medicine   \n",
       "4  1350777600            Great taffy   \n",
       "\n",
       "                                                Text  \n",
       "0  I have bought several of the Vitality canned d...  \n",
       "1  Product arrived labeled as Jumbo Salted Peanut...  \n",
       "2  This is a confection that has been around a fe...  \n",
       "3  If you are looking for the secret ingredient i...  \n",
       "4  Great taffy at a great price.  There was a wid...  "
      ]
     },
     "execution_count": 1,
     "metadata": {},
     "output_type": "execute_result"
    }
   ],
   "source": [
    "import pandas as pd\n",
    "\n",
    "df = pd.read_csv(\"./Reviews_10000.csv.bz2\")\n",
    "df.head()"
   ]
  },
  {
   "cell_type": "code",
   "execution_count": 2,
   "metadata": {
    "collapsed": true
   },
   "outputs": [],
   "source": [
    "texts = df[\"Text\"]"
   ]
  },
  {
   "cell_type": "code",
   "execution_count": 3,
   "metadata": {
    "collapsed": true
   },
   "outputs": [],
   "source": [
    "import nltk\n",
    "\n",
    "texts_transformed = []\n",
    "for review in texts: \n",
    "    sentences = nltk.sent_tokenize(review)\n",
    "    adjectives = []\n",
    "    \n",
    "    for sentence in sentences:\n",
    "        words = nltk.word_tokenize(sentence)\n",
    "        words_tagged = nltk.pos_tag(words)\n",
    "        \n",
    "        for word_tagged in words_tagged:\n",
    "            if word_tagged[1] == \"JJ\":\n",
    "                adjectives.append(word_tagged[0])\n",
    "                \n",
    "    texts_transformed.append(\" \".join(adjectives))"
   ]
  },
  {
   "cell_type": "code",
   "execution_count": 4,
   "metadata": {
    "collapsed": true
   },
   "outputs": [],
   "source": [
    "from sklearn.feature_extraction.text import CountVectorizer\n",
    "from sklearn.model_selection import train_test_split\n",
    "from sklearn.naive_bayes import MultinomialNB"
   ]
  },
  {
   "cell_type": "code",
   "execution_count": 5,
   "metadata": {
    "collapsed": true
   },
   "outputs": [],
   "source": [
    "X = texts_transformed\n",
    "y = df[\"Score\"] >= 4"
   ]
  },
  {
   "cell_type": "code",
   "execution_count": 19,
   "metadata": {
    "collapsed": true
   },
   "outputs": [],
   "source": [
    "X_train, X_test, y_train, y_test = train_test_split(X, y, random_state = 42)\n",
    "\n",
    "cv = CountVectorizer(max_features = 50)\n",
    "cv.fit(X_train)\n",
    "\n",
    "X_train = cv.transform(X_train)\n",
    "X_test = cv.transform(X_test)"
   ]
  },
  {
   "cell_type": "code",
   "execution_count": 20,
   "metadata": {},
   "outputs": [
    {
     "name": "stdout",
     "output_type": "stream",
     "text": [
      "0.7532\n"
     ]
    }
   ],
   "source": [
    "model = MultinomialNB()\n",
    "model.fit(X_train, y_train)\n",
    "\n",
    "print(model.score(X_test, y_test))"
   ]
  },
  {
   "cell_type": "code",
   "execution_count": 21,
   "metadata": {},
   "outputs": [
    {
     "name": "stdout",
     "output_type": "stream",
     "text": [
      "(-4.7256055277271907, 'green')\n",
      "(-4.654987960513238, 'bad')\n",
      "(-4.6436884052593044, 'available')\n",
      "(-4.6214652684745943, 'right')\n",
      "(-4.5627817666465038, 'low')\n",
      "(-4.5524723969876426, 'own')\n",
      "(-4.5422682268134009, 'full')\n",
      "(-4.5422682268134009, 'new')\n",
      "(-4.5321671308268972, 'real')\n",
      "(-4.5122659765096023, 'expensive')\n",
      "(-4.5073519617071733, 'several')\n",
      "(-4.4831377035865785, 'big')\n",
      "(-4.4688856808793771, 'br')\n",
      "(-4.454833927423727, 'last')\n",
      "(-4.3658864414072305, 'whole')\n",
      "(-4.3490084036198784, 'hard')\n",
      "(-4.3490084036198784, 'sure')\n",
      "(-4.3448330322093982, 'organic')\n",
      "(-4.3448330322093982, 'same')\n",
      "(-4.2842084103929636, 'natural')\n",
      "(-4.2686438938518521, 'wonderful')\n",
      "(-4.2647903245358618, 'high')\n",
      "(-4.2609515482286957, 'local')\n",
      "(-4.2571274517902928, 'tasty')\n",
      "(-4.2307605759495504, 'only')\n",
      "(-4.2196698892553917, 'excellent')\n",
      "(-4.2087008578848177, 'old')\n",
      "(-4.1625114754154433, 'happy')\n",
      "(-4.1555910325708698, 'fresh')\n",
      "(-4.1521486883798966, 'healthy')\n",
      "(-4.0953721725778154, 'small')\n",
      "(-4.0728993167257563, 'different')\n",
      "(-4.0728993167257563, 'regular')\n",
      "(-4.0697297419644771, 'perfect')\n",
      "(-4.0324583471672453, 'sweet')\n",
      "(-4.0203369866349012, 'strong')\n",
      "(-4.0053890251990278, 'few')\n",
      "(-3.9533541660759735, 'easy')\n",
      "(-3.8315105282448201, 'favorite')\n",
      "(-3.8166587701087948, 'first')\n",
      "(-3.8093147958530356, 'nice')\n",
      "(-3.787601035629252, 'hot')\n",
      "(-3.7524274214509843, 'free')\n",
      "(-3.7478297122023552, 'many')\n",
      "(-3.6537713581404745, 'delicious')\n",
      "(-3.6310665644467175, 'much')\n",
      "(-3.1751929069639671, 'little')\n",
      "(-2.9247412915062165, 'other')\n",
      "(-2.3835652274997647, 'great')\n",
      "(-2.201830009039818, 'good')\n"
     ]
    }
   ],
   "source": [
    "adj = list(zip(model.coef_[0], cv.get_feature_names()))\n",
    "adj = sorted(adj)\n",
    "\n",
    "for i in adj:\n",
    "    print(i)"
   ]
  },
  {
   "cell_type": "code",
   "execution_count": null,
   "metadata": {
    "collapsed": true
   },
   "outputs": [],
   "source": []
  }
 ],
 "metadata": {
  "kernelspec": {
   "display_name": "Python 3",
   "language": "python",
   "name": "python3"
  },
  "language_info": {
   "codemirror_mode": {
    "name": "ipython",
    "version": 3
   },
   "file_extension": ".py",
   "mimetype": "text/x-python",
   "name": "python",
   "nbconvert_exporter": "python",
   "pygments_lexer": "ipython3",
   "version": "3.6.3"
  }
 },
 "nbformat": 4,
 "nbformat_minor": 2
}
